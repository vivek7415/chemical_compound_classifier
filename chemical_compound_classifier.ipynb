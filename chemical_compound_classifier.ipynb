{
 "cells": [
  {
   "cell_type": "code",
   "execution_count": 1,
   "metadata": {},
   "outputs": [],
   "source": [
    "import numpy as np\n",
    "import pandas as pd\n",
    "import matplotlib.pyplot as plt"
   ]
  },
  {
   "cell_type": "code",
   "execution_count": 2,
   "metadata": {},
   "outputs": [],
   "source": [
    "data = pd.read_csv(\"musk_csv.csv\")"
   ]
  },
  {
   "cell_type": "code",
   "execution_count": 3,
   "metadata": {
    "scrolled": false
   },
   "outputs": [
    {
     "data": {
      "text/html": [
       "<div>\n",
       "<style scoped>\n",
       "    .dataframe tbody tr th:only-of-type {\n",
       "        vertical-align: middle;\n",
       "    }\n",
       "\n",
       "    .dataframe tbody tr th {\n",
       "        vertical-align: top;\n",
       "    }\n",
       "\n",
       "    .dataframe thead th {\n",
       "        text-align: right;\n",
       "    }\n",
       "</style>\n",
       "<table border=\"1\" class=\"dataframe\">\n",
       "  <thead>\n",
       "    <tr style=\"text-align: right;\">\n",
       "      <th></th>\n",
       "      <th>ID</th>\n",
       "      <th>molecule_name</th>\n",
       "      <th>conformation_name</th>\n",
       "      <th>f1</th>\n",
       "      <th>f2</th>\n",
       "      <th>f3</th>\n",
       "      <th>f4</th>\n",
       "      <th>f5</th>\n",
       "      <th>f6</th>\n",
       "      <th>f7</th>\n",
       "      <th>...</th>\n",
       "      <th>f158</th>\n",
       "      <th>f159</th>\n",
       "      <th>f160</th>\n",
       "      <th>f161</th>\n",
       "      <th>f162</th>\n",
       "      <th>f163</th>\n",
       "      <th>f164</th>\n",
       "      <th>f165</th>\n",
       "      <th>f166</th>\n",
       "      <th>class</th>\n",
       "    </tr>\n",
       "  </thead>\n",
       "  <tbody>\n",
       "    <tr>\n",
       "      <th>6593</th>\n",
       "      <td>6594</td>\n",
       "      <td>NON-MUSK-jp13</td>\n",
       "      <td>jp13_2+5</td>\n",
       "      <td>51</td>\n",
       "      <td>-123</td>\n",
       "      <td>-23</td>\n",
       "      <td>-108</td>\n",
       "      <td>-117</td>\n",
       "      <td>134</td>\n",
       "      <td>-160</td>\n",
       "      <td>...</td>\n",
       "      <td>-66</td>\n",
       "      <td>164</td>\n",
       "      <td>-14</td>\n",
       "      <td>-29</td>\n",
       "      <td>107</td>\n",
       "      <td>171</td>\n",
       "      <td>-44</td>\n",
       "      <td>-115</td>\n",
       "      <td>118</td>\n",
       "      <td>0</td>\n",
       "    </tr>\n",
       "    <tr>\n",
       "      <th>6594</th>\n",
       "      <td>6595</td>\n",
       "      <td>NON-MUSK-jp13</td>\n",
       "      <td>jp13_2+6</td>\n",
       "      <td>44</td>\n",
       "      <td>-104</td>\n",
       "      <td>-19</td>\n",
       "      <td>-105</td>\n",
       "      <td>-117</td>\n",
       "      <td>142</td>\n",
       "      <td>-165</td>\n",
       "      <td>...</td>\n",
       "      <td>-51</td>\n",
       "      <td>166</td>\n",
       "      <td>-9</td>\n",
       "      <td>150</td>\n",
       "      <td>129</td>\n",
       "      <td>158</td>\n",
       "      <td>-66</td>\n",
       "      <td>-144</td>\n",
       "      <td>-5</td>\n",
       "      <td>0</td>\n",
       "    </tr>\n",
       "    <tr>\n",
       "      <th>6595</th>\n",
       "      <td>6596</td>\n",
       "      <td>NON-MUSK-jp13</td>\n",
       "      <td>jp13_2+7</td>\n",
       "      <td>44</td>\n",
       "      <td>-102</td>\n",
       "      <td>-19</td>\n",
       "      <td>-104</td>\n",
       "      <td>-117</td>\n",
       "      <td>72</td>\n",
       "      <td>-165</td>\n",
       "      <td>...</td>\n",
       "      <td>90</td>\n",
       "      <td>117</td>\n",
       "      <td>-8</td>\n",
       "      <td>150</td>\n",
       "      <td>130</td>\n",
       "      <td>159</td>\n",
       "      <td>-66</td>\n",
       "      <td>-144</td>\n",
       "      <td>-6</td>\n",
       "      <td>0</td>\n",
       "    </tr>\n",
       "    <tr>\n",
       "      <th>6596</th>\n",
       "      <td>6597</td>\n",
       "      <td>NON-MUSK-jp13</td>\n",
       "      <td>jp13_2+8</td>\n",
       "      <td>51</td>\n",
       "      <td>-121</td>\n",
       "      <td>-23</td>\n",
       "      <td>-106</td>\n",
       "      <td>-117</td>\n",
       "      <td>63</td>\n",
       "      <td>-161</td>\n",
       "      <td>...</td>\n",
       "      <td>86</td>\n",
       "      <td>99</td>\n",
       "      <td>-14</td>\n",
       "      <td>-31</td>\n",
       "      <td>106</td>\n",
       "      <td>171</td>\n",
       "      <td>-44</td>\n",
       "      <td>-116</td>\n",
       "      <td>117</td>\n",
       "      <td>0</td>\n",
       "    </tr>\n",
       "    <tr>\n",
       "      <th>6597</th>\n",
       "      <td>6598</td>\n",
       "      <td>NON-MUSK-jp13</td>\n",
       "      <td>jp13_2+9</td>\n",
       "      <td>51</td>\n",
       "      <td>-122</td>\n",
       "      <td>-23</td>\n",
       "      <td>-106</td>\n",
       "      <td>-117</td>\n",
       "      <td>190</td>\n",
       "      <td>-161</td>\n",
       "      <td>...</td>\n",
       "      <td>40</td>\n",
       "      <td>124</td>\n",
       "      <td>-14</td>\n",
       "      <td>-30</td>\n",
       "      <td>107</td>\n",
       "      <td>171</td>\n",
       "      <td>-44</td>\n",
       "      <td>-115</td>\n",
       "      <td>118</td>\n",
       "      <td>0</td>\n",
       "    </tr>\n",
       "  </tbody>\n",
       "</table>\n",
       "<p>5 rows × 170 columns</p>\n",
       "</div>"
      ],
      "text/plain": [
       "        ID  molecule_name conformation_name  f1   f2  f3   f4   f5   f6   f7  \\\n",
       "6593  6594  NON-MUSK-jp13          jp13_2+5  51 -123 -23 -108 -117  134 -160   \n",
       "6594  6595  NON-MUSK-jp13          jp13_2+6  44 -104 -19 -105 -117  142 -165   \n",
       "6595  6596  NON-MUSK-jp13          jp13_2+7  44 -102 -19 -104 -117   72 -165   \n",
       "6596  6597  NON-MUSK-jp13          jp13_2+8  51 -121 -23 -106 -117   63 -161   \n",
       "6597  6598  NON-MUSK-jp13          jp13_2+9  51 -122 -23 -106 -117  190 -161   \n",
       "\n",
       "      ...    f158  f159  f160  f161  f162  f163  f164  f165  f166  class  \n",
       "6593  ...     -66   164   -14   -29   107   171   -44  -115   118      0  \n",
       "6594  ...     -51   166    -9   150   129   158   -66  -144    -5      0  \n",
       "6595  ...      90   117    -8   150   130   159   -66  -144    -6      0  \n",
       "6596  ...      86    99   -14   -31   106   171   -44  -116   117      0  \n",
       "6597  ...      40   124   -14   -30   107   171   -44  -115   118      0  \n",
       "\n",
       "[5 rows x 170 columns]"
      ]
     },
     "execution_count": 3,
     "metadata": {},
     "output_type": "execute_result"
    }
   ],
   "source": [
    "data.tail(5)"
   ]
  },
  {
   "cell_type": "code",
   "execution_count": 4,
   "metadata": {},
   "outputs": [
    {
     "name": "stdout",
     "output_type": "stream",
     "text": [
      "<class 'pandas.core.frame.DataFrame'>\n",
      "RangeIndex: 6598 entries, 0 to 6597\n",
      "Columns: 170 entries, ID to class\n",
      "dtypes: int64(168), object(2)\n",
      "memory usage: 8.6+ MB\n"
     ]
    }
   ],
   "source": [
    "data.info()"
   ]
  },
  {
   "cell_type": "code",
   "execution_count": 5,
   "metadata": {
    "scrolled": false
   },
   "outputs": [
    {
     "data": {
      "text/plain": [
       "[<matplotlib.lines.Line2D at 0x200b8cd14e0>]"
      ]
     },
     "execution_count": 5,
     "metadata": {},
     "output_type": "execute_result"
    },
    {
     "data": {
      "image/png": "[encoded data removed]",
      "text/plain": [
       "<Figure size 864x576 with 1 Axes>"
      ]
     },
     "metadata": {
      "needs_background": "light"
     },
     "output_type": "display_data"
    }
   ],
   "source": [
    "plt.figure(figsize = [12,8])\n",
    "plt.plot(data['f1'])\n",
    "# plt.plot(data['f2'])\n",
    "# plt.plot(data['f3'])\n",
    "# plt.plot(data['f4'])"
   ]
  },
  {
   "cell_type": "code",
   "execution_count": null,
   "metadata": {},
   "outputs": [],
   "source": []
  },
  {
   "cell_type": "code",
   "execution_count": 6,
   "metadata": {},
   "outputs": [
    {
     "name": "stdout",
     "output_type": "stream",
     "text": [
      "<class 'pandas.core.frame.DataFrame'>\n",
      "RangeIndex: 6598 entries, 0 to 6597\n",
      "Columns: 170 entries, ID to class\n",
      "dtypes: int64(168), object(2)\n",
      "memory usage: 8.6+ MB\n"
     ]
    }
   ],
   "source": [
    "data.info()"
   ]
  },
  {
   "cell_type": "code",
   "execution_count": 7,
   "metadata": {},
   "outputs": [],
   "source": [
    "from sklearn.preprocessing import MinMaxScaler\n",
    "from sklearn.model_selection import train_test_split"
   ]
  },
  {
   "cell_type": "code",
   "execution_count": 8,
   "metadata": {},
   "outputs": [
    {
     "data": {
      "text/plain": [
       "(6598, 170)"
      ]
     },
     "execution_count": 8,
     "metadata": {},
     "output_type": "execute_result"
    }
   ],
   "source": [
    "data.shape"
   ]
  },
  {
   "cell_type": "code",
   "execution_count": 9,
   "metadata": {},
   "outputs": [],
   "source": [
    "LABELS = data['class'].values"
   ]
  },
  {
   "cell_type": "code",
   "execution_count": 10,
   "metadata": {},
   "outputs": [
    {
     "data": {
      "text/plain": [
       "(6598,)"
      ]
     },
     "execution_count": 10,
     "metadata": {},
     "output_type": "execute_result"
    }
   ],
   "source": [
    "LABELS.shape"
   ]
  },
  {
   "cell_type": "code",
   "execution_count": 11,
   "metadata": {},
   "outputs": [],
   "source": [
    "LABELS = LABELS.reshape(-1,1)"
   ]
  },
  {
   "cell_type": "code",
   "execution_count": 12,
   "metadata": {},
   "outputs": [
    {
     "data": {
      "text/plain": [
       "(6598, 1)"
      ]
     },
     "execution_count": 12,
     "metadata": {},
     "output_type": "execute_result"
    }
   ],
   "source": [
    "LABELS.shape"
   ]
  },
  {
   "cell_type": "code",
   "execution_count": 13,
   "metadata": {},
   "outputs": [],
   "source": [
    "data.drop(['ID','molecule_name','conformation_name','class'],axis=1, inplace = True )"
   ]
  },
  {
   "cell_type": "code",
   "execution_count": 14,
   "metadata": {},
   "outputs": [
    {
     "name": "stdout",
     "output_type": "stream",
     "text": [
      "<class 'pandas.core.frame.DataFrame'>\n",
      "RangeIndex: 6598 entries, 0 to 6597\n",
      "Columns: 166 entries, f1 to f166\n",
      "dtypes: int64(166)\n",
      "memory usage: 8.4 MB\n"
     ]
    }
   ],
   "source": [
    "data.info()"
   ]
  },
  {
   "cell_type": "code",
   "execution_count": 15,
   "metadata": {},
   "outputs": [],
   "source": [
    "# min_max_scaler = MinMaxScaler()"
   ]
  },
  {
   "cell_type": "code",
   "execution_count": 16,
   "metadata": {},
   "outputs": [],
   "source": [
    "# DATA = min_max_scaler.fit_transform(data.values)"
   ]
  },
  {
   "cell_type": "code",
   "execution_count": 17,
   "metadata": {},
   "outputs": [],
   "source": [
    "# DATA.shape"
   ]
  },
  {
   "cell_type": "code",
   "execution_count": 18,
   "metadata": {},
   "outputs": [],
   "source": [
    "# plt.figure(figsize=[12,8])\n",
    "# plt.plot(data[:,0])"
   ]
  },
  {
   "cell_type": "code",
   "execution_count": 19,
   "metadata": {},
   "outputs": [
    {
     "data": {
      "text/plain": [
       "array([[1],\n",
       "       [1],\n",
       "       [1],\n",
       "       ...,\n",
       "       [0],\n",
       "       [0],\n",
       "       [0]], dtype=int64)"
      ]
     },
     "execution_count": 19,
     "metadata": {},
     "output_type": "execute_result"
    }
   ],
   "source": [
    "LABELS.reshape(len(LABELS),1)"
   ]
  },
  {
   "cell_type": "code",
   "execution_count": 20,
   "metadata": {},
   "outputs": [
    {
     "data": {
      "text/plain": [
       "(6598, 1)"
      ]
     },
     "execution_count": 20,
     "metadata": {},
     "output_type": "execute_result"
    }
   ],
   "source": [
    "LABELS.shape"
   ]
  },
  {
   "cell_type": "code",
   "execution_count": 21,
   "metadata": {},
   "outputs": [],
   "source": [
    "def initialize_parameters(layers_dims):\n",
    "    np.random.seed(3)\n",
    "    parameters = {}\n",
    "    L = len(layers_dims)\n",
    "    for l in range(1,L):\n",
    "        parameters['W'+str(l)] = np.random.randn(layers_dims[l], layers_dims[l-1]) / np.sqrt(layers_dims[l-1])\n",
    "        parameters['b'+str(l)] = np.zeros((layers_dims[l],1))\n",
    "        \n",
    "    return parameters\n",
    "        "
   ]
  },
  {
   "cell_type": "code",
   "execution_count": 22,
   "metadata": {},
   "outputs": [],
   "source": [
    "def linear_activation_forward(A_prev, W, b, activation):\n",
    "    if activation == 'sigmoid':\n",
    "        Z = W.dot(A_prev) + b\n",
    "        A = 1/(1+np.exp(-Z))\n",
    "    elif activation == 'tanh':\n",
    "        Z = W.dot(A_prev) + b\n",
    "        A = np.tanh(Z)\n",
    "    \n",
    "    Cache = (Z,A_prev,W,b)\n",
    "    return A, Cache"
   ]
  },
  {
   "cell_type": "code",
   "execution_count": 23,
   "metadata": {},
   "outputs": [],
   "source": [
    "def L_model_forward(X, parameters):\n",
    "    caches = []\n",
    "    A = X\n",
    "    L = len(parameters)//2\n",
    "    \n",
    "    for l in range(1,L):\n",
    "        A_prev = A\n",
    "        A,cache = linear_activation_forward(A_prev, parameters['W'+str(l)], parameters['b'+str(l)], activation = 'tanh')\n",
    "        caches.append(cache)\n",
    "        \n",
    "    AL, cache = linear_activation_forward(A, parameters['W'+str(L)], parameters['b'+str(L)], activation = 'sigmoid')\n",
    "    caches.append(cache)\n",
    "    \n",
    "    return AL, caches"
   ]
  },
  {
   "cell_type": "code",
   "execution_count": 24,
   "metadata": {},
   "outputs": [],
   "source": [
    "def compute_cost(AL,Y):\n",
    "    m = Y.shape[1]\n",
    "    cost = (1./m) * (-np.dot(Y, np.log(AL).T) - np.dot(1-Y, np.log(1-AL).T))\n",
    "    cost = np.squeeze(cost)\n",
    "    assert(cost.shape == ())\n",
    "    return cost"
   ]
  },
  {
   "cell_type": "code",
   "execution_count": 25,
   "metadata": {},
   "outputs": [],
   "source": [
    "def linear_activation_backward(dA, cache, activation):\n",
    "    \n",
    "    Z, A_prev,W,b = cache\n",
    "#     print(A_prev,Z,W)\n",
    "    m = A_prev.shape[1]\n",
    "    if activation == 'sigmoid':\n",
    "        s = 1/(1+np.exp(-Z))\n",
    "        dZ = dA * s *(1-s)\n",
    "        dW = 1./m * np.dot(dZ,A_prev.T)\n",
    "        db = 1./m * np.sum(dZ, axis = 1, keepdims = True)\n",
    "        dA_prev = np.dot(W.T, dZ)\n",
    "        \n",
    "    elif activation == 'tanh':\n",
    "        \n",
    "        dZ = dA * (1-np.power(np.tanh(Z),2))\n",
    "        dW = 1./m * (np.dot(dZ, A_prev.T))\n",
    "        db = 1./m * (np.sum(dZ, axis=1, keepdims = True))\n",
    "        dA_prev = np.dot(W.T, dZ)\n",
    "        \n",
    "    return dA_prev, dW, db"
   ]
  },
  {
   "cell_type": "code",
   "execution_count": 26,
   "metadata": {},
   "outputs": [],
   "source": [
    "def L_model_backward(AL, Y, caches):\n",
    "    \n",
    "    grads = {}\n",
    "    L = len(caches)\n",
    "    m = AL.shape[1]\n",
    "    Y = Y.reshape(AL.shape)\n",
    "    \n",
    "    dAL = -(np.divide(Y, AL) - np.divide(1-Y, 1-AL))\n",
    "    \n",
    "    current_cache = caches[L-1]\n",
    "    \n",
    "    grads['dA'+str(L-1)], grads['dW'+str(L)], grads['db'+str(L)] = linear_activation_backward(dAL, current_cache, activation='sigmoid')\n",
    "    \n",
    "    for l in reversed(range(L-1)):\n",
    "        \n",
    "        current_cache = caches[l]\n",
    "        \n",
    "        dA_prev_temp, dW_temp, db_temp = linear_activation_backward(grads['dA'+str(l+1)], current_cache, activation = 'tanh')\n",
    "        \n",
    "        grads['dA'+str(l)] = dA_prev_temp\n",
    "        grads['dW'+str(l+1)] = dW_temp\n",
    "        grads['db'+str(l+1)] = db_temp\n",
    "        \n",
    "    return grads"
   ]
  },
  {
   "cell_type": "code",
   "execution_count": 27,
   "metadata": {},
   "outputs": [],
   "source": [
    "def update_parameters(parameters, grads, learning_rate):\n",
    "    \n",
    "    L = len(parameters)//2\n",
    "    \n",
    "    for l in range(L):\n",
    "#         print(grads['dW'+str(l+1)])\n",
    "        parameters['W'+str(l+1)] -= learning_rate * grads['dW'+str(l+1)]\n",
    "        parameters['b'+str(l+1)] -= learning_rate * grads['db'+str(l+1)]\n",
    "        \n",
    "    return parameters\n"
   ]
  },
  {
   "cell_type": "code",
   "execution_count": 28,
   "metadata": {},
   "outputs": [],
   "source": [
    "def predict(X, y, parameters):\n",
    "    \n",
    "    m = X.shape[1]\n",
    "    n = len(parameters)//2\n",
    "    p = np.zeros((1,m))\n",
    "    \n",
    "    probas, cache = L_model_forward(X, parameters)\n",
    "    cost = compute_cost(probas,y)\n",
    "    for i in range(0, probas.shape[1]):\n",
    "        if probas[0,i] > 0.5:\n",
    "            p[0,i] = 1\n",
    "        else:\n",
    "            p[0,i] = 0\n",
    "        \n",
    "#     print('Accuracy: '+ str(np.sum((p==y)/m)))\n",
    "    accuracy = np.sum((p==y)/m)\n",
    "    return cost,accuracy,p"
   ]
  },
  {
   "cell_type": "code",
   "execution_count": 29,
   "metadata": {},
   "outputs": [],
   "source": [
    "def L_layer_model(X,Y,X_t,y_t,layers_dims, learning_rate = 0.1, num_iterations= 3000, print_cost=False):\n",
    "    np.random.seed(1)\n",
    "    costs_train = []\n",
    "    costs_test = []\n",
    "    accuracy_train = []\n",
    "    accuracy_test = []\n",
    "    parameters = initialize_parameters(layers_dims)\n",
    "    \n",
    "    for i in range (0, num_iterations):\n",
    "        \n",
    "        AL, caches = L_model_forward(X, parameters)\n",
    "        \n",
    "        cost = compute_cost(AL, Y)\n",
    "        \n",
    "        grads = L_model_backward(AL, Y, caches)\n",
    "        \n",
    "        parameters = update_parameters(parameters, grads, learning_rate)\n",
    "        \n",
    "        if print_cost and i%100 == 0:\n",
    "            m = X.shape[1]\n",
    "            p = np.zeros((1,m))\n",
    "#             print('Cost after iteration %i: %f' %(i, cost))\n",
    "            for x in range(0, AL.shape[1]):\n",
    "                if AL[0,x] > 0.5:\n",
    "                    p[0,x] = 1\n",
    "                else:\n",
    "                    p[0,x] = 0\n",
    "            acc_train = np.sum((p==Y)/m)\n",
    "#             print('Accuracy after iteration %i: %f' %(i, acc_train))\n",
    "            cost_test,acc_test,_ = predict(X_t,y_t,parameters)\n",
    "            print('Iteration: %i || Train Cost: %f || Test Cost: %f || Train Accuracy: %f || Test Accuracy: %f' %(i,cost,cost_test,acc_train,acc_test))\n",
    "            \n",
    "            \n",
    "        if print_cost and i%100 == 0:\n",
    "            costs_train.append(cost)\n",
    "            costs_test.append(cost_test)\n",
    "            accuracy_train.append(acc_train)\n",
    "            accuracy_test.append(acc_test)\n",
    "    plt.figure()    \n",
    "    plt.plot(np.squeeze(costs_train))\n",
    "    plt.plot(np.squeeze(costs_test))\n",
    "    plt.ylabel('Loss')\n",
    "    plt.xlabel('iteration (per hundreds)')\n",
    "    plt.legend(['train', 'test'])\n",
    "    plt.title('Model Loss')\n",
    "    plt.show()\n",
    "    \n",
    "    plt.figure()    \n",
    "    plt.plot(accuracy_train)\n",
    "    plt.plot(accuracy_test)\n",
    "    plt.ylabel('Accuracy')\n",
    "    plt.xlabel('iteration (per hundreds)')\n",
    "    plt.legend(['train', 'test'])\n",
    "    plt.title('Model Accuracy')\n",
    "    plt.show()\n",
    "        \n",
    "    return parameters\n",
    "        "
   ]
  },
  {
   "cell_type": "code",
   "execution_count": 30,
   "metadata": {},
   "outputs": [],
   "source": [
    "X_train, X_test, y_train, y_test = train_test_split(data, LABELS, test_size=0.2, random_state=42)"
   ]
  },
  {
   "cell_type": "code",
   "execution_count": 31,
   "metadata": {},
   "outputs": [],
   "source": [
    "# y_train.reshape(-1,1)"
   ]
  },
  {
   "cell_type": "code",
   "execution_count": 32,
   "metadata": {},
   "outputs": [
    {
     "data": {
      "text/plain": [
       "(5278, 1)"
      ]
     },
     "execution_count": 32,
     "metadata": {},
     "output_type": "execute_result"
    }
   ],
   "source": [
    "y_train.shape"
   ]
  },
  {
   "cell_type": "code",
   "execution_count": 33,
   "metadata": {},
   "outputs": [],
   "source": [
    "layers_dims = [166, 20, 1]"
   ]
  },
  {
   "cell_type": "code",
   "execution_count": 39,
   "metadata": {},
   "outputs": [
    {
     "name": "stdout",
     "output_type": "stream",
     "text": [
      "Iteration: 0 || Train Cost: 0.665189 || Test Cost: 0.481884 || Train Accuracy: 0.641341 || Test Accuracy: 0.837121\n",
      "Iteration: 100 || Train Cost: 0.268176 || Test Cost: 0.273869 || Train Accuracy: 0.917393 || Test Accuracy: 0.887879\n",
      "Iteration: 200 || Train Cost: 0.175598 || Test Cost: 0.192109 || Train Accuracy: 0.936718 || Test Accuracy: 0.944697\n",
      "Iteration: 300 || Train Cost: 0.138605 || Test Cost: 0.147772 || Train Accuracy: 0.957749 || Test Accuracy: 0.951515\n",
      "Iteration: 400 || Train Cost: 0.108314 || Test Cost: 0.118935 || Train Accuracy: 0.961538 || Test Accuracy: 0.956818\n",
      "Iteration: 500 || Train Cost: 0.088835 || Test Cost: 0.113942 || Train Accuracy: 0.967222 || Test Accuracy: 0.960606\n",
      "Iteration: 600 || Train Cost: 0.134454 || Test Cost: 0.131866 || Train Accuracy: 0.949792 || Test Accuracy: 0.954545\n",
      "Iteration: 700 || Train Cost: 0.094806 || Test Cost: 0.120920 || Train Accuracy: 0.970443 || Test Accuracy: 0.960606\n",
      "Iteration: 800 || Train Cost: 0.208582 || Test Cost: 0.191440 || Train Accuracy: 0.922887 || Test Accuracy: 0.932576\n",
      "Iteration: 900 || Train Cost: 0.103375 || Test Cost: 0.118269 || Train Accuracy: 0.966465 || Test Accuracy: 0.964394\n",
      "Iteration: 1000 || Train Cost: 0.105286 || Test Cost: 0.125367 || Train Accuracy: 0.967791 || Test Accuracy: 0.964394\n",
      "Iteration: 1100 || Train Cost: 0.076731 || Test Cost: 0.160296 || Train Accuracy: 0.968738 || Test Accuracy: 0.926515\n",
      "Iteration: 1200 || Train Cost: 0.082851 || Test Cost: 0.088237 || Train Accuracy: 0.971201 || Test Accuracy: 0.970455\n",
      "Iteration: 1300 || Train Cost: 0.063156 || Test Cost: 0.085010 || Train Accuracy: 0.974043 || Test Accuracy: 0.968939\n",
      "Iteration: 1400 || Train Cost: 0.057664 || Test Cost: 0.075764 || Train Accuracy: 0.973664 || Test Accuracy: 0.968939\n",
      "Iteration: 1500 || Train Cost: 0.048510 || Test Cost: 0.077388 || Train Accuracy: 0.975369 || Test Accuracy: 0.967424\n",
      "Iteration: 1600 || Train Cost: 0.043211 || Test Cost: 0.070307 || Train Accuracy: 0.988632 || Test Accuracy: 0.973485\n",
      "Iteration: 1700 || Train Cost: 0.061371 || Test Cost: 0.084367 || Train Accuracy: 0.969875 || Test Accuracy: 0.959091\n",
      "Iteration: 1800 || Train Cost: 0.040831 || Test Cost: 0.076756 || Train Accuracy: 0.990337 || Test Accuracy: 0.972727\n",
      "Iteration: 1900 || Train Cost: 0.049914 || Test Cost: 0.074980 || Train Accuracy: 0.977643 || Test Accuracy: 0.968182\n",
      "Iteration: 2000 || Train Cost: 0.038115 || Test Cost: 0.071454 || Train Accuracy: 0.991664 || Test Accuracy: 0.974242\n",
      "Iteration: 2100 || Train Cost: 0.037538 || Test Cost: 0.073421 || Train Accuracy: 0.991095 || Test Accuracy: 0.972727\n",
      "Iteration: 2200 || Train Cost: 0.035203 || Test Cost: 0.063930 || Train Accuracy: 0.992800 || Test Accuracy: 0.978030\n",
      "Iteration: 2300 || Train Cost: 0.033394 || Test Cost: 0.067852 || Train Accuracy: 0.992611 || Test Accuracy: 0.974242\n",
      "Iteration: 2400 || Train Cost: 0.039766 || Test Cost: 0.063387 || Train Accuracy: 0.988064 || Test Accuracy: 0.976515\n",
      "Iteration: 2500 || Train Cost: 0.034593 || Test Cost: 0.068804 || Train Accuracy: 0.992611 || Test Accuracy: 0.975758\n",
      "Iteration: 2600 || Train Cost: 0.033088 || Test Cost: 0.062023 || Train Accuracy: 0.991474 || Test Accuracy: 0.976515\n",
      "Iteration: 2700 || Train Cost: 0.032282 || Test Cost: 0.066859 || Train Accuracy: 0.990527 || Test Accuracy: 0.973485\n",
      "Iteration: 2800 || Train Cost: 0.034236 || Test Cost: 0.058317 || Train Accuracy: 0.991285 || Test Accuracy: 0.980303\n",
      "Iteration: 2900 || Train Cost: 0.027282 || Test Cost: 0.061607 || Train Accuracy: 0.993937 || Test Accuracy: 0.980303\n"
     ]
    },
    {
     "data": {
      "image/png": "[encoded data removed]",
      "text/plain": [
       "<Figure size 432x288 with 1 Axes>"
      ]
     },
     "metadata": {
      "needs_background": "light"
     },
     "output_type": "display_data"
    },
    {
     "data": {
      "image/png": "[encoded data removed]",
      "text/plain": [
       "<Figure size 432x288 with 1 Axes>"
      ]
     },
     "metadata": {
      "needs_background": "light"
     },
     "output_type": "display_data"
    }
   ],
   "source": [
    "parameters = L_layer_model(X_train.T, y_train.T,X_test.T,y_test.T, layers_dims,learning_rate=0.1, num_iterations = 3000, print_cost=True)"
   ]
  },
  {
   "cell_type": "code",
   "execution_count": 40,
   "metadata": {},
   "outputs": [],
   "source": [
    "_,accuracy,prediction = predict(X_test.T, y_test.T, parameters)"
   ]
  },
  {
   "cell_type": "code",
   "execution_count": 41,
   "metadata": {},
   "outputs": [],
   "source": [
    "from sklearn.metrics import classification_report, confusion_matrix"
   ]
  },
  {
   "cell_type": "code",
   "execution_count": 42,
   "metadata": {},
   "outputs": [
    {
     "name": "stdout",
     "output_type": "stream",
     "text": [
      "Accuracy: 0.9787878787878785\n"
     ]
    }
   ],
   "source": [
    "print(\"Accuracy: \"+str(accuracy))"
   ]
  },
  {
   "cell_type": "code",
   "execution_count": 43,
   "metadata": {},
   "outputs": [
    {
     "name": "stdout",
     "output_type": "stream",
     "text": [
      "[[1102   19]\n",
      " [   9  190]]\n",
      "\n",
      "\n",
      "              precision    recall  f1-score   support\n",
      "\n",
      "         0.0       0.99      0.98      0.99      1121\n",
      "         1.0       0.91      0.95      0.93       199\n",
      "\n",
      "   micro avg       0.98      0.98      0.98      1320\n",
      "   macro avg       0.95      0.97      0.96      1320\n",
      "weighted avg       0.98      0.98      0.98      1320\n",
      "\n"
     ]
    }
   ],
   "source": [
    "print(confusion_matrix(prediction.T, y_test))\n",
    "print('\\n')\n",
    "print(classification_report(prediction.T, y_test))"
   ]
  },
  {
   "cell_type": "code",
   "execution_count": null,
   "metadata": {},
   "outputs": [],
   "source": []
  },
  {
   "cell_type": "code",
   "execution_count": null,
   "metadata": {},
   "outputs": [],
   "source": []
  }
 ],
 "metadata": {
  "kernelspec": {
   "display_name": "Python 3",
   "language": "python",
   "name": "python3"
  },
  "language_info": {
   "codemirror_mode": {
    "name": "ipython",
    "version": 3
   },
   "file_extension": ".py",
   "mimetype": "text/x-python",
   "name": "python",
   "nbconvert_exporter": "python",
   "pygments_lexer": "ipython3",
   "version": "3.7.1"
  }
 },
 "nbformat": 4,
 "nbformat_minor": 2
}
